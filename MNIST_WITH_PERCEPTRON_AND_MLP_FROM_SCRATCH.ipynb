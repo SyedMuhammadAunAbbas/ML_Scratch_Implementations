{
 "cells": [
  {
   "cell_type": "code",
   "execution_count": 1,
   "metadata": {},
   "outputs": [],
   "source": [
    "import pandas as pd\n",
    "import numpy as np\n",
    "import tensorflow as tf\n",
    "import matplotlib.pyplot as plt\n",
    "from sklearn.datasets import fetch_openml"
   ]
  },
  {
   "cell_type": "markdown",
   "metadata": {},
   "source": [
    "## Implementing Identification of Number With MNIST Dataset"
   ]
  },
  {
   "cell_type": "code",
   "execution_count": 2,
   "metadata": {},
   "outputs": [],
   "source": [
    "mnist= tf.keras.datasets.mnist\n",
    "\n",
    "(X_train, y_train), (X_test, y_test) = mnist.load_data()"
   ]
  },
  {
   "cell_type": "code",
   "execution_count": 3,
   "metadata": {},
   "outputs": [],
   "source": [
    "X_test_for_viewing= X_test"
   ]
  },
  {
   "cell_type": "code",
   "execution_count": 4,
   "metadata": {},
   "outputs": [
    {
     "data": {
      "image/png": "[encoded data removed]",
      "text/plain": [
       "<Figure size 640x480 with 1 Axes>"
      ]
     },
     "metadata": {},
     "output_type": "display_data"
    },
    {
     "name": "stdout",
     "output_type": "stream",
     "text": [
      "Label: 9\n"
     ]
    }
   ],
   "source": [
    "plt.imshow(X_train[4])\n",
    "plt.show()\n",
    "print(f'Label: {y_train[4]}')"
   ]
  },
  {
   "cell_type": "markdown",
   "metadata": {},
   "source": [
    "# Task is to implement a perceptron that differentiates between numbers with a round shape in them and numbers with none.\n",
    "## namely {0, 6, 8, 9} which will belong to class 1 (round shape= True)\n",
    "## and {1, 2, 3, 4, 5, 7} which will belong to class -1 (round shape= False)"
   ]
  },
  {
   "cell_type": "code",
   "execution_count": 5,
   "metadata": {},
   "outputs": [],
   "source": [
    "y_train= pd.DataFrame(y_train)\n",
    "y_test= pd.DataFrame(y_test)"
   ]
  },
  {
   "cell_type": "code",
   "execution_count": 6,
   "metadata": {},
   "outputs": [
    {
     "data": {
      "text/html": [
       "<div>\n",
       "<style scoped>\n",
       "    .dataframe tbody tr th:only-of-type {\n",
       "        vertical-align: middle;\n",
       "    }\n",
       "\n",
       "    .dataframe tbody tr th {\n",
       "        vertical-align: top;\n",
       "    }\n",
       "\n",
       "    .dataframe thead th {\n",
       "        text-align: right;\n",
       "    }\n",
       "</style>\n",
       "<table border=\"1\" class=\"dataframe\">\n",
       "  <thead>\n",
       "    <tr style=\"text-align: right;\">\n",
       "      <th></th>\n",
       "      <th>0</th>\n",
       "    </tr>\n",
       "  </thead>\n",
       "  <tbody>\n",
       "    <tr>\n",
       "      <th>0</th>\n",
       "      <td>5</td>\n",
       "    </tr>\n",
       "    <tr>\n",
       "      <th>1</th>\n",
       "      <td>0</td>\n",
       "    </tr>\n",
       "    <tr>\n",
       "      <th>2</th>\n",
       "      <td>4</td>\n",
       "    </tr>\n",
       "    <tr>\n",
       "      <th>3</th>\n",
       "      <td>1</td>\n",
       "    </tr>\n",
       "    <tr>\n",
       "      <th>4</th>\n",
       "      <td>9</td>\n",
       "    </tr>\n",
       "    <tr>\n",
       "      <th>...</th>\n",
       "      <td>...</td>\n",
       "    </tr>\n",
       "    <tr>\n",
       "      <th>59995</th>\n",
       "      <td>8</td>\n",
       "    </tr>\n",
       "    <tr>\n",
       "      <th>59996</th>\n",
       "      <td>3</td>\n",
       "    </tr>\n",
       "    <tr>\n",
       "      <th>59997</th>\n",
       "      <td>5</td>\n",
       "    </tr>\n",
       "    <tr>\n",
       "      <th>59998</th>\n",
       "      <td>6</td>\n",
       "    </tr>\n",
       "    <tr>\n",
       "      <th>59999</th>\n",
       "      <td>8</td>\n",
       "    </tr>\n",
       "  </tbody>\n",
       "</table>\n",
       "<p>60000 rows × 1 columns</p>\n",
       "</div>"
      ],
      "text/plain": [
       "       0\n",
       "0      5\n",
       "1      0\n",
       "2      4\n",
       "3      1\n",
       "4      9\n",
       "...   ..\n",
       "59995  8\n",
       "59996  3\n",
       "59997  5\n",
       "59998  6\n",
       "59999  8\n",
       "\n",
       "[60000 rows x 1 columns]"
      ]
     },
     "execution_count": 6,
     "metadata": {},
     "output_type": "execute_result"
    }
   ],
   "source": [
    "y_train"
   ]
  },
  {
   "cell_type": "code",
   "execution_count": 7,
   "metadata": {},
   "outputs": [
    {
     "data": {
      "text/html": [
       "<div>\n",
       "<style scoped>\n",
       "    .dataframe tbody tr th:only-of-type {\n",
       "        vertical-align: middle;\n",
       "    }\n",
       "\n",
       "    .dataframe tbody tr th {\n",
       "        vertical-align: top;\n",
       "    }\n",
       "\n",
       "    .dataframe thead th {\n",
       "        text-align: right;\n",
       "    }\n",
       "</style>\n",
       "<table border=\"1\" class=\"dataframe\">\n",
       "  <thead>\n",
       "    <tr style=\"text-align: right;\">\n",
       "      <th></th>\n",
       "      <th>0</th>\n",
       "    </tr>\n",
       "  </thead>\n",
       "  <tbody>\n",
       "    <tr>\n",
       "      <th>0</th>\n",
       "      <td>7</td>\n",
       "    </tr>\n",
       "    <tr>\n",
       "      <th>1</th>\n",
       "      <td>2</td>\n",
       "    </tr>\n",
       "    <tr>\n",
       "      <th>2</th>\n",
       "      <td>1</td>\n",
       "    </tr>\n",
       "    <tr>\n",
       "      <th>3</th>\n",
       "      <td>0</td>\n",
       "    </tr>\n",
       "    <tr>\n",
       "      <th>4</th>\n",
       "      <td>4</td>\n",
       "    </tr>\n",
       "  </tbody>\n",
       "</table>\n",
       "</div>"
      ],
      "text/plain": [
       "   0\n",
       "0  7\n",
       "1  2\n",
       "2  1\n",
       "3  0\n",
       "4  4"
      ]
     },
     "execution_count": 7,
     "metadata": {},
     "output_type": "execute_result"
    }
   ],
   "source": [
    "y_test.head()"
   ]
  },
  {
   "cell_type": "code",
   "execution_count": 8,
   "metadata": {},
   "outputs": [],
   "source": [
    "y_train['label']= y_train[0].apply(lambda x: 1 if x in [0, 6, 8, 9] else -1)"
   ]
  },
  {
   "cell_type": "code",
   "execution_count": 9,
   "metadata": {},
   "outputs": [],
   "source": [
    "y_test['label']= y_test[0].apply(lambda x: 1 if x in [0, 6, 8, 9] else -1)"
   ]
  },
  {
   "cell_type": "code",
   "execution_count": 10,
   "metadata": {},
   "outputs": [
    {
     "data": {
      "text/html": [
       "<div>\n",
       "<style scoped>\n",
       "    .dataframe tbody tr th:only-of-type {\n",
       "        vertical-align: middle;\n",
       "    }\n",
       "\n",
       "    .dataframe tbody tr th {\n",
       "        vertical-align: top;\n",
       "    }\n",
       "\n",
       "    .dataframe thead th {\n",
       "        text-align: right;\n",
       "    }\n",
       "</style>\n",
       "<table border=\"1\" class=\"dataframe\">\n",
       "  <thead>\n",
       "    <tr style=\"text-align: right;\">\n",
       "      <th></th>\n",
       "      <th>0</th>\n",
       "      <th>label</th>\n",
       "    </tr>\n",
       "  </thead>\n",
       "  <tbody>\n",
       "    <tr>\n",
       "      <th>0</th>\n",
       "      <td>5</td>\n",
       "      <td>-1</td>\n",
       "    </tr>\n",
       "    <tr>\n",
       "      <th>1</th>\n",
       "      <td>0</td>\n",
       "      <td>1</td>\n",
       "    </tr>\n",
       "    <tr>\n",
       "      <th>2</th>\n",
       "      <td>4</td>\n",
       "      <td>-1</td>\n",
       "    </tr>\n",
       "    <tr>\n",
       "      <th>3</th>\n",
       "      <td>1</td>\n",
       "      <td>-1</td>\n",
       "    </tr>\n",
       "    <tr>\n",
       "      <th>4</th>\n",
       "      <td>9</td>\n",
       "      <td>1</td>\n",
       "    </tr>\n",
       "  </tbody>\n",
       "</table>\n",
       "</div>"
      ],
      "text/plain": [
       "   0  label\n",
       "0  5     -1\n",
       "1  0      1\n",
       "2  4     -1\n",
       "3  1     -1\n",
       "4  9      1"
      ]
     },
     "execution_count": 10,
     "metadata": {},
     "output_type": "execute_result"
    }
   ],
   "source": [
    "y_train.head()"
   ]
  },
  {
   "cell_type": "code",
   "execution_count": 11,
   "metadata": {},
   "outputs": [],
   "source": [
    "y_train= y_train['label']\n",
    "y_test= y_test['label']"
   ]
  },
  {
   "cell_type": "code",
   "execution_count": 12,
   "metadata": {},
   "outputs": [],
   "source": [
    "def verify_labels(X, y):\n",
    "    print('----The Image----')\n",
    "    plt.imshow(X)\n",
    "    plt.show()\n",
    "    print('----The Label----')\n",
    "    print(y)"
   ]
  },
  {
   "cell_type": "code",
   "execution_count": 13,
   "metadata": {},
   "outputs": [
    {
     "name": "stdout",
     "output_type": "stream",
     "text": [
      "----The Image----\n"
     ]
    },
    {
     "data": {
      "image/png": "[encoded data removed]",
      "text/plain": [
       "<Figure size 640x480 with 1 Axes>"
      ]
     },
     "metadata": {},
     "output_type": "display_data"
    },
    {
     "name": "stdout",
     "output_type": "stream",
     "text": [
      "----The Label----\n",
      "-1\n",
      "----The Image----\n"
     ]
    },
    {
     "data": {
      "image/png": "[encoded data removed]",
      "text/plain": [
       "<Figure size 640x480 with 1 Axes>"
      ]
     },
     "metadata": {},
     "output_type": "display_data"
    },
    {
     "name": "stdout",
     "output_type": "stream",
     "text": [
      "----The Label----\n",
      "1\n",
      "----The Image----\n"
     ]
    },
    {
     "data": {
      "image/png": "[encoded data removed]",
      "text/plain": [
       "<Figure size 640x480 with 1 Axes>"
      ]
     },
     "metadata": {},
     "output_type": "display_data"
    },
    {
     "name": "stdout",
     "output_type": "stream",
     "text": [
      "----The Label----\n",
      "-1\n",
      "----The Image----\n"
     ]
    },
    {
     "data": {
      "image/png": "[encoded data removed]",
      "text/plain": [
       "<Figure size 640x480 with 1 Axes>"
      ]
     },
     "metadata": {},
     "output_type": "display_data"
    },
    {
     "name": "stdout",
     "output_type": "stream",
     "text": [
      "----The Label----\n",
      "-1\n"
     ]
    }
   ],
   "source": [
    "for i in range(0,4):\n",
    "    verify_labels(X_train[i], y_train[i])"
   ]
  },
  {
   "cell_type": "code",
   "execution_count": 14,
   "metadata": {},
   "outputs": [
    {
     "name": "stdout",
     "output_type": "stream",
     "text": [
      "----The Image----\n"
     ]
    },
    {
     "data": {
      "image/png": "[encoded data removed]",
      "text/plain": [
       "<Figure size 640x480 with 1 Axes>"
      ]
     },
     "metadata": {},
     "output_type": "display_data"
    },
    {
     "name": "stdout",
     "output_type": "stream",
     "text": [
      "----The Label----\n",
      "-1\n",
      "----The Image----\n"
     ]
    },
    {
     "data": {
      "image/png": "[encoded data removed]",
      "text/plain": [
       "<Figure size 640x480 with 1 Axes>"
      ]
     },
     "metadata": {},
     "output_type": "display_data"
    },
    {
     "name": "stdout",
     "output_type": "stream",
     "text": [
      "----The Label----\n",
      "-1\n",
      "----The Image----\n"
     ]
    },
    {
     "data": {
      "image/png": "[encoded data removed]",
      "text/plain": [
       "<Figure size 640x480 with 1 Axes>"
      ]
     },
     "metadata": {},
     "output_type": "display_data"
    },
    {
     "name": "stdout",
     "output_type": "stream",
     "text": [
      "----The Label----\n",
      "-1\n"
     ]
    }
   ],
   "source": [
    "for i in range(0,3):\n",
    "    verify_labels(X_test[i], y_test[i])"
   ]
  },
  {
   "cell_type": "code",
   "execution_count": 15,
   "metadata": {},
   "outputs": [],
   "source": [
    "X_train= tf.keras.utils.normalize(X_train, axis=1)"
   ]
  },
  {
   "cell_type": "code",
   "execution_count": 16,
   "metadata": {},
   "outputs": [],
   "source": [
    "X_test= tf.keras.utils.normalize(X_test, axis=1)"
   ]
  },
  {
   "cell_type": "code",
   "execution_count": 17,
   "metadata": {},
   "outputs": [
    {
     "name": "stdout",
     "output_type": "stream",
     "text": [
      "----The Image----\n"
     ]
    },
    {
     "data": {
      "image/png": "[encoded data removed]",
      "text/plain": [
       "<Figure size 640x480 with 1 Axes>"
      ]
     },
     "metadata": {},
     "output_type": "display_data"
    },
    {
     "name": "stdout",
     "output_type": "stream",
     "text": [
      "----The Label----\n",
      "-1\n",
      "----The Image----\n"
     ]
    },
    {
     "data": {
      "image/png": "[encoded data removed]",
      "text/plain": [
       "<Figure size 640x480 with 1 Axes>"
      ]
     },
     "metadata": {},
     "output_type": "display_data"
    },
    {
     "name": "stdout",
     "output_type": "stream",
     "text": [
      "----The Label----\n",
      "1\n"
     ]
    }
   ],
   "source": [
    "for i in range(0, 2):\n",
    "    verify_labels(X_train[i], y_train[i])"
   ]
  },
  {
   "cell_type": "code",
   "execution_count": 18,
   "metadata": {},
   "outputs": [
    {
     "data": {
      "text/plain": [
       "(60000, 28, 28)"
      ]
     },
     "execution_count": 18,
     "metadata": {},
     "output_type": "execute_result"
    }
   ],
   "source": [
    "X_train.shape"
   ]
  },
  {
   "cell_type": "code",
   "execution_count": 19,
   "metadata": {},
   "outputs": [],
   "source": [
    "X_train= X_train.reshape(60000, 784)"
   ]
  },
  {
   "cell_type": "code",
   "execution_count": 20,
   "metadata": {},
   "outputs": [
    {
     "data": {
      "text/plain": [
       "(60000, 784)"
      ]
     },
     "execution_count": 20,
     "metadata": {},
     "output_type": "execute_result"
    }
   ],
   "source": [
    "X_train.shape"
   ]
  },
  {
   "cell_type": "code",
   "execution_count": 21,
   "metadata": {},
   "outputs": [
    {
     "data": {
      "text/plain": [
       "(10000, 28, 28)"
      ]
     },
     "execution_count": 21,
     "metadata": {},
     "output_type": "execute_result"
    }
   ],
   "source": [
    "X_test.shape"
   ]
  },
  {
   "cell_type": "code",
   "execution_count": 22,
   "metadata": {},
   "outputs": [],
   "source": [
    "X_test= X_test.reshape(10000, 784)"
   ]
  },
  {
   "cell_type": "code",
   "execution_count": 23,
   "metadata": {},
   "outputs": [
    {
     "data": {
      "text/plain": [
       "(10000, 784)"
      ]
     },
     "execution_count": 23,
     "metadata": {},
     "output_type": "execute_result"
    }
   ],
   "source": [
    "X_test.shape"
   ]
  },
  {
   "cell_type": "code",
   "execution_count": 24,
   "metadata": {},
   "outputs": [],
   "source": [
    "def Perceptron_Predict(W, X):\n",
    "    \n",
    "    z= np.dot(W.T, X)\n",
    "\n",
    "    return 1 if z >= 0 else -1"
   ]
  },
  {
   "cell_type": "code",
   "execution_count": 25,
   "metadata": {},
   "outputs": [],
   "source": [
    "def get_output(W, X): #For getting output of perceptron for given input and weights\n",
    "    \n",
    "    return np.dot(W.T, X)"
   ]
  },
  {
   "cell_type": "code",
   "execution_count": 26,
   "metadata": {},
   "outputs": [],
   "source": [
    "def is_missclassified(y, z):\n",
    "    return y*z < 0 #If this y*z -ve, then miss-classification is caught...\n",
    "                    #where y --> actual\n",
    "                            #z --> prediction"
   ]
  },
  {
   "cell_type": "code",
   "execution_count": 27,
   "metadata": {},
   "outputs": [],
   "source": [
    "def update_rule(W, X, y, lr): #perceptron update rule: w_new <--- w_old + yx\n",
    "    return W + (lr * (y * X))"
   ]
  },
  {
   "cell_type": "code",
   "execution_count": 28,
   "metadata": {},
   "outputs": [],
   "source": [
    "def Perceptron_Algorithm(W, X, Y, lr, epochs=2):\n",
    "    \n",
    "    n_epochs = 0\n",
    "    while True:\n",
    "        n_epochs = n_epochs + 1\n",
    "        miss_classifications= 0 \n",
    "        \n",
    "        for i in range(0, len(Y)):\n",
    "            \n",
    "            z= get_output(W, X[i])\n",
    "            \n",
    "            if is_missclassified(Y[i], z):\n",
    "                \n",
    "                W= update_rule(W, X[i], Y[i], lr)\n",
    "                miss_classifications = miss_classifications + 1\n",
    "        \n",
    "        \n",
    "        if miss_classifications == 0 or n_epochs == epochs:\n",
    "            print(f'Learning Complete at epoch {n_epochs}\\nOptimal Hyperplane Weighs Are {W}' )\n",
    "            return W\n",
    "        \n",
    "        "
   ]
  },
  {
   "cell_type": "code",
   "execution_count": 29,
   "metadata": {},
   "outputs": [],
   "source": [
    "X_train = np.c_[np.ones(X_train.shape[0]), X_train]\n",
    "X_test= np.c_[np.ones(X_test.shape[0]), X_test]"
   ]
  },
  {
   "cell_type": "code",
   "execution_count": 30,
   "metadata": {},
   "outputs": [
    {
     "name": "stdout",
     "output_type": "stream",
     "text": [
      "[1.         0.         0.         0.         0.         0.\n",
      " 0.         0.         0.         0.         0.         0.\n",
      " 0.         0.         0.         0.         0.         0.\n",
      " 0.         0.         0.         0.         0.         0.\n",
      " 0.         0.         0.         0.         0.         0.\n",
      " 0.         0.         0.         0.         0.         0.\n",
      " 0.         0.         0.         0.         0.         0.\n",
      " 0.         0.         0.         0.         0.         0.\n",
      " 0.         0.         0.         0.         0.         0.\n",
      " 0.         0.         0.         0.         0.         0.\n",
      " 0.         0.         0.         0.         0.         0.\n",
      " 0.         0.         0.         0.         0.         0.\n",
      " 0.         0.         0.         0.         0.         0.\n",
      " 0.         0.         0.         0.         0.         0.\n",
      " 0.         0.         0.         0.         0.         0.\n",
      " 0.         0.         0.         0.         0.         0.\n",
      " 0.         0.         0.         0.         0.         0.\n",
      " 0.         0.         0.         0.         0.         0.\n",
      " 0.         0.         0.         0.         0.         0.\n",
      " 0.         0.         0.         0.         0.         0.\n",
      " 0.         0.         0.         0.         0.         0.\n",
      " 0.         0.         0.         0.         0.         0.\n",
      " 0.         0.         0.         0.         0.         0.\n",
      " 0.         0.         0.         0.         0.         0.\n",
      " 0.         0.         0.         0.         0.         0.\n",
      " 0.         0.         0.         0.00393124 0.02332955 0.02620568\n",
      " 0.02625207 0.17420356 0.17566281 0.28629534 0.05664824 0.51877786\n",
      " 0.71632322 0.77892406 0.89301644 0.         0.         0.\n",
      " 0.         0.         0.         0.         0.         0.\n",
      " 0.         0.         0.         0.05780486 0.06524513 0.16128198\n",
      " 0.22713296 0.22277047 0.32790981 0.36833534 0.3689874  0.34978968\n",
      " 0.32678448 0.368094   0.3747499  0.79066747 0.67980478 0.61494005\n",
      " 0.45002403 0.         0.         0.         0.         0.\n",
      " 0.         0.         0.         0.         0.         0.\n",
      " 0.12250613 0.45858525 0.45852825 0.43408872 0.37314701 0.33153488\n",
      " 0.32790981 0.36833534 0.3689874  0.34978968 0.32420121 0.15214552\n",
      " 0.17865984 0.25626376 0.1573102  0.12298801 0.         0.\n",
      " 0.         0.         0.         0.         0.         0.\n",
      " 0.         0.         0.         0.         0.04500225 0.4219755\n",
      " 0.45852825 0.43408872 0.37314701 0.33153488 0.32790981 0.28826244\n",
      " 0.26543758 0.34149427 0.31128482 0.         0.         0.\n",
      " 0.         0.         0.         0.         0.         0.\n",
      " 0.         0.         0.         0.         0.         0.\n",
      " 0.         0.         0.         0.1541463  0.28272888 0.18358693\n",
      " 0.37314701 0.33153488 0.26569767 0.01601458 0.         0.05945042\n",
      " 0.19891229 0.         0.         0.         0.         0.\n",
      " 0.         0.         0.         0.         0.         0.\n",
      " 0.         0.         0.         0.         0.         0.\n",
      " 0.         0.         0.0253731  0.00171577 0.22713296 0.33153488\n",
      " 0.11664776 0.         0.         0.         0.         0.\n",
      " 0.         0.         0.         0.         0.         0.\n",
      " 0.         0.         0.         0.         0.         0.\n",
      " 0.         0.         0.         0.         0.         0.\n",
      " 0.         0.         0.20500962 0.33153488 0.24625638 0.00291174\n",
      " 0.         0.         0.         0.         0.         0.\n",
      " 0.         0.         0.         0.         0.         0.\n",
      " 0.         0.         0.         0.         0.         0.\n",
      " 0.         0.         0.         0.         0.         0.\n",
      " 0.01622378 0.24897876 0.32790981 0.10191096 0.         0.\n",
      " 0.         0.         0.         0.         0.         0.\n",
      " 0.         0.         0.         0.         0.         0.\n",
      " 0.         0.         0.         0.         0.         0.\n",
      " 0.         0.         0.         0.         0.         0.04586451\n",
      " 0.31235677 0.32757096 0.23335172 0.14931733 0.00129164 0.\n",
      " 0.         0.         0.         0.         0.         0.\n",
      " 0.         0.         0.         0.         0.         0.\n",
      " 0.         0.         0.         0.         0.         0.\n",
      " 0.         0.         0.         0.         0.10498298 0.34940902\n",
      " 0.3689874  0.34978968 0.15370495 0.04089933 0.         0.\n",
      " 0.         0.         0.         0.         0.         0.\n",
      " 0.         0.         0.         0.         0.         0.\n",
      " 0.         0.         0.         0.         0.         0.\n",
      " 0.         0.         0.         0.06551419 0.27127137 0.34978968\n",
      " 0.32678448 0.245396   0.05882702 0.         0.         0.\n",
      " 0.         0.         0.         0.         0.         0.\n",
      " 0.         0.         0.         0.         0.         0.\n",
      " 0.         0.         0.         0.         0.         0.\n",
      " 0.         0.         0.02333517 0.12857881 0.32549285 0.41390126\n",
      " 0.40743158 0.         0.         0.         0.         0.\n",
      " 0.         0.         0.         0.         0.         0.\n",
      " 0.         0.         0.         0.         0.         0.\n",
      " 0.         0.         0.         0.         0.         0.\n",
      " 0.         0.         0.32161793 0.41390126 0.54251585 0.20001074\n",
      " 0.         0.         0.         0.         0.         0.\n",
      " 0.         0.         0.         0.         0.         0.\n",
      " 0.         0.         0.         0.         0.         0.\n",
      " 0.         0.         0.         0.06697006 0.18959827 0.25300993\n",
      " 0.32678448 0.41390126 0.45100715 0.00625034 0.         0.\n",
      " 0.         0.         0.         0.         0.         0.\n",
      " 0.         0.         0.         0.         0.         0.\n",
      " 0.         0.         0.         0.         0.         0.05110617\n",
      " 0.19182076 0.33339444 0.3689874  0.34978968 0.32678448 0.40899334\n",
      " 0.39653769 0.         0.         0.         0.         0.\n",
      " 0.         0.         0.         0.         0.         0.\n",
      " 0.         0.         0.         0.         0.         0.\n",
      " 0.         0.04117838 0.16813739 0.28960162 0.32790981 0.36833534\n",
      " 0.3689874  0.34978968 0.25961929 0.12760592 0.         0.\n",
      " 0.         0.         0.         0.         0.         0.\n",
      " 0.         0.         0.         0.         0.         0.\n",
      " 0.         0.         0.         0.04431706 0.11961607 0.36545809\n",
      " 0.37314701 0.33153488 0.32790981 0.36833534 0.28877275 0.111988\n",
      " 0.00258328 0.         0.         0.         0.         0.\n",
      " 0.         0.         0.         0.         0.         0.\n",
      " 0.         0.         0.         0.         0.         0.05298497\n",
      " 0.42752138 0.4219755  0.45852825 0.43408872 0.37314701 0.33153488\n",
      " 0.25273681 0.11646967 0.01312603 0.         0.         0.\n",
      " 0.         0.         0.         0.         0.         0.\n",
      " 0.         0.         0.         0.         0.         0.\n",
      " 0.         0.37491383 0.56222061 0.66525569 0.63253163 0.48748768\n",
      " 0.45852825 0.43408872 0.359873   0.17428513 0.01425695 0.\n",
      " 0.         0.         0.         0.         0.         0.\n",
      " 0.         0.         0.         0.         0.         0.\n",
      " 0.         0.         0.         0.         0.         0.92705966\n",
      " 0.82698729 0.74473314 0.63253163 0.4084877  0.24466922 0.22648107\n",
      " 0.02359823 0.         0.         0.         0.         0.\n",
      " 0.         0.         0.         0.         0.         0.\n",
      " 0.         0.         0.         0.         0.         0.\n",
      " 0.         0.         0.         0.         0.         0.\n",
      " 0.         0.         0.         0.         0.         0.\n",
      " 0.         0.         0.         0.         0.         0.\n",
      " 0.         0.         0.         0.         0.         0.\n",
      " 0.         0.         0.         0.         0.         0.\n",
      " 0.         0.         0.         0.         0.         0.\n",
      " 0.         0.         0.         0.         0.         0.\n",
      " 0.         0.         0.         0.         0.         0.\n",
      " 0.         0.         0.         0.         0.         0.\n",
      " 0.         0.         0.         0.         0.         0.\n",
      " 0.         0.         0.         0.         0.         0.\n",
      " 0.         0.         0.         0.         0.         0.\n",
      " 0.         0.         0.         0.         0.         0.\n",
      " 0.         0.         0.         0.         0.        ]\n"
     ]
    }
   ],
   "source": [
    "print(X_train[0])"
   ]
  },
  {
   "cell_type": "code",
   "execution_count": 31,
   "metadata": {},
   "outputs": [
    {
     "data": {
      "text/plain": [
       "array([[1., 0., 0., ..., 0., 0., 0.],\n",
       "       [1., 0., 0., ..., 0., 0., 0.],\n",
       "       [1., 0., 0., ..., 0., 0., 0.],\n",
       "       ...,\n",
       "       [1., 0., 0., ..., 0., 0., 0.],\n",
       "       [1., 0., 0., ..., 0., 0., 0.],\n",
       "       [1., 0., 0., ..., 0., 0., 0.]])"
      ]
     },
     "execution_count": 31,
     "metadata": {},
     "output_type": "execute_result"
    }
   ],
   "source": [
    "X_test"
   ]
  },
  {
   "cell_type": "code",
   "execution_count": 32,
   "metadata": {},
   "outputs": [
    {
     "data": {
      "text/plain": [
       "(60000, 785)"
      ]
     },
     "execution_count": 32,
     "metadata": {},
     "output_type": "execute_result"
    }
   ],
   "source": [
    "X_train.shape"
   ]
  },
  {
   "cell_type": "code",
   "execution_count": 33,
   "metadata": {},
   "outputs": [],
   "source": [
    "initial_weights= np.ones(X_train.shape[1])"
   ]
  },
  {
   "cell_type": "code",
   "execution_count": 34,
   "metadata": {},
   "outputs": [
    {
     "data": {
      "text/plain": [
       "(785,)"
      ]
     },
     "execution_count": 34,
     "metadata": {},
     "output_type": "execute_result"
    }
   ],
   "source": [
    "initial_weights.shape"
   ]
  },
  {
   "cell_type": "code",
   "execution_count": 35,
   "metadata": {},
   "outputs": [
    {
     "name": "stdout",
     "output_type": "stream",
     "text": [
      "Learning Complete at epoch 10\n",
      "Optimal Hyperplane Weighs Are [-3.70000000e+00  1.00000000e+00  1.00000000e+00  1.00000000e+00\n",
      "  1.00000000e+00  1.00000000e+00  1.00000000e+00  1.00000000e+00\n",
      "  1.00000000e+00  1.00000000e+00  1.00000000e+00  1.00000000e+00\n",
      "  1.00000000e+00  9.81767512e-01  6.34017052e-01  6.62687527e-01\n",
      "  9.85183337e-01  1.00000000e+00  1.00000000e+00  1.00000000e+00\n",
      "  1.00000000e+00  1.00000000e+00  1.00000000e+00  1.00000000e+00\n",
      "  1.00000000e+00  1.00000000e+00  1.00000000e+00  1.00000000e+00\n",
      "  1.00000000e+00  1.00000000e+00  1.00000000e+00  1.00000000e+00\n",
      "  1.00000000e+00  1.00000000e+00  1.01126900e+00  1.40573243e+00\n",
      "  1.37163919e+00  1.49372353e+00  9.88515193e-01  9.21360090e-01\n",
      "  6.96957714e-01  1.11694787e+00  1.03352504e+00  1.74472223e-01\n",
      "  9.02591057e-01  1.44913347e+00  1.28113283e+00  1.07594321e+00\n",
      "  1.00180759e+00  1.03887745e+00  1.07152633e+00  1.01350015e+00\n",
      "  1.00000000e+00  1.00000000e+00  1.00000000e+00  1.00000000e+00\n",
      "  1.00000000e+00  1.00000000e+00  1.00000000e+00  1.00000000e+00\n",
      "  1.00000000e+00  1.00000000e+00  9.19931541e-01  1.74730672e-01\n",
      "  1.69066280e+00  1.36659326e+00  4.61461823e-02  1.12270747e+00\n",
      "  2.11389191e+00  2.68039207e+00  1.66546181e+00  2.23588604e+00\n",
      "  7.26246182e-01  1.33901917e+00  9.51910637e-01  1.49528108e+00\n",
      "  1.36991884e+00  4.43914640e-01  2.01459309e+00  1.65918675e+00\n",
      "  5.71156133e-01  1.30908029e+00  8.53882855e-01  1.00000000e+00\n",
      "  1.00000000e+00  1.00000000e+00  1.00000000e+00  7.22456188e-01\n",
      "  6.99051163e-01  3.46928677e-01  6.15896811e-01 -1.92786484e-02\n",
      "  2.30553640e-01 -1.97489126e-01  4.66725838e-01  1.11033819e+00\n",
      "  6.27230385e-01 -2.02835817e-01  8.56205497e-01  1.85914881e-01\n",
      "  7.53623248e-01  4.98103097e-01  7.42009001e-01 -1.43638369e-01\n",
      "  5.37707811e-01  3.16944536e-01  4.44951595e-01  1.19420987e+00\n",
      "  7.37885547e-01  4.30286762e-03  2.68815169e+00  2.45157281e-01\n",
      "  1.00000000e+00  1.00000000e+00  1.00000000e+00  1.04390233e-01\n",
      " -2.79816388e-01 -5.26426702e-02  3.18664511e-01 -1.23053026e-01\n",
      " -6.51107459e-01 -1.20811169e-01  4.62002708e-02  2.18772534e-01\n",
      "  6.36890107e-02  2.93504814e-01  4.67896659e-01  1.59109236e-01\n",
      "  6.65728717e-01 -6.10856755e-01  1.30082149e-01 -7.91403078e-01\n",
      "  2.33902518e-01  1.74384713e-01 -1.99645103e-01  4.84094348e-01\n",
      " -4.54251667e-01  5.24882434e-01 -1.04411002e-01  1.37909773e-01\n",
      "  1.56084815e+00  1.00000000e+00  1.00000000e+00  6.52117524e-01\n",
      "  5.96919132e-02 -1.46702981e-01 -1.70471970e-01 -3.34761696e-01\n",
      "  1.61997808e-01  1.75204499e-01 -7.37310597e-01  7.44447359e-02\n",
      "  2.39718500e-01  1.25851452e-01 -2.95413175e-01  1.09292564e-01\n",
      "  6.83040467e-02  1.97373675e-01  1.75639305e-01  6.24291036e-01\n",
      "  5.00449466e-01 -2.39674144e-01 -2.06394842e-01 -3.01747904e-01\n",
      " -3.49697389e-01 -5.79017769e-01 -5.33130739e-02 -2.05198699e-01\n",
      "  1.38807548e+00  1.00000000e+00  9.75821209e-01 -2.90222837e-01\n",
      " -5.85715087e-01 -1.20700905e-02 -1.19860661e-01 -4.21503967e-01\n",
      " -3.07585749e-01 -1.43496344e-01 -5.12331673e-02 -4.34853909e-01\n",
      "  1.09921813e-01  8.59730842e-02  2.03349946e-01  4.15538007e-01\n",
      "  2.86893912e-02  5.69426764e-01  3.72862444e-01  1.89826888e-01\n",
      "  1.65958169e-02  4.51139967e-02 -3.98000455e-02 -4.72430114e-01\n",
      " -2.51120715e-01 -4.40250468e-01 -2.32518661e-01 -2.28550655e-01\n",
      " -3.23971149e-02  9.76396805e-01 -5.22149271e-02  4.68592428e-02\n",
      " -3.35768075e-01  4.91086909e-03 -1.81705642e-01 -6.51626095e-02\n",
      "  1.23015435e-02 -8.53678400e-01 -1.58248493e-01 -5.70837388e-02\n",
      "  1.65405287e-01  6.51439214e-01  6.44615388e-02  1.45159035e-01\n",
      "  9.91478153e-01  4.54254913e-01  4.45320215e-01 -6.97833432e-02\n",
      "  1.95796018e-01  2.27585085e-01 -1.43969319e-01 -1.41499817e-01\n",
      " -2.07765904e-01 -2.79861052e-01 -4.84429966e-01 -5.04471519e-01\n",
      "  1.15095636e-01  1.40408064e+00 -2.07142104e-01  1.45741251e-01\n",
      " -5.76432693e-01 -2.17316512e-01 -3.91156767e-01 -2.06511223e-01\n",
      " -3.44677122e-01 -7.48964701e-02 -1.70130171e-01 -1.83130307e-01\n",
      " -2.36240797e-01 -1.27868625e-01  6.71588428e-01  3.09361773e-01\n",
      "  4.45017565e-01  5.42519110e-01 -1.62519354e-01 -1.08978828e-01\n",
      "  1.94200476e-02 -1.23018075e-01 -4.58815720e-02  1.99122291e-01\n",
      " -1.34723580e-01 -3.04889957e-01 -1.91991516e-01 -4.05662530e-01\n",
      "  2.62686180e-01  8.17415573e-01 -4.99719860e-01 -7.67591285e-01\n",
      " -3.47608409e-01 -7.75494464e-01 -1.28703595e-01 -7.03475726e-02\n",
      "  1.03464207e-01  7.09588136e-02  5.22797262e-01  1.37616491e-01\n",
      "  3.87817223e-01  4.71027725e-01  4.81182925e-01  3.79024684e-01\n",
      "  3.72209465e-01 -4.78952777e-01  2.62949720e-02  3.64032387e-03\n",
      "  1.53101490e-01 -3.49981031e-02  1.28085242e-01  1.94170482e-01\n",
      " -3.84911301e-02 -2.44541749e-01 -7.22685312e-01  1.51268154e-01\n",
      " -2.23473770e-01  7.59820232e-01 -1.13668079e-01 -5.06210585e-01\n",
      " -6.72560548e-01 -6.39976010e-02  4.37100080e-02 -2.63827511e-01\n",
      " -2.33862879e-01 -1.60886606e-01 -3.55930294e-02  7.13441157e-01\n",
      "  4.76902333e-01  7.06653967e-01  4.19712829e-01 -1.75603232e-01\n",
      " -3.56571926e-01 -3.95499436e-01  3.73217701e-01  3.77595857e-01\n",
      " -2.17600346e-01  4.19116197e-02 -3.51305678e-01  1.96124536e-01\n",
      "  4.67127123e-01 -1.44460265e-01 -4.08873677e-01 -1.35067429e+00\n",
      "  3.11589905e-01  5.50993996e-01  4.34851773e-01 -8.66313292e-02\n",
      " -4.68444319e-01 -3.63372879e-01 -1.50904539e-01 -1.40132576e-01\n",
      "  3.04771427e-01  5.37200224e-01  4.20666987e-01  6.35343916e-01\n",
      "  4.68614884e-01  5.08784674e-01  7.02625652e-01 -7.95781040e-01\n",
      " -3.07042378e-01 -5.74073945e-01  1.75156389e-01  2.11631039e-01\n",
      "  2.50128901e-01 -5.70878784e-03  4.08792788e-01 -5.18995073e-02\n",
      "  8.07186360e-01  1.11291056e+00 -2.12764284e+00  3.72636744e-01\n",
      "  1.86046988e-01  2.58495381e-01 -7.09812834e-01 -2.16002572e-01\n",
      " -7.21035747e-01 -4.87988554e-01 -1.66554786e-01 -1.57600252e-02\n",
      " -2.46324866e-02  1.06512412e-01  4.70804931e-01  8.55079464e-01\n",
      "  6.79549076e-01  7.32863741e-01  4.88627488e-01 -4.16321399e-01\n",
      " -2.06639076e-01 -5.26527249e-02  2.84227548e-02 -4.02583177e-02\n",
      "  1.98218402e-01  7.74525020e-01  7.95911395e-01  6.58788828e-01\n",
      "  1.10826486e+00  3.52948989e-01 -8.25552054e-01 -1.97168534e+00\n",
      "  2.27550058e-01  1.00000000e+00 -2.43152782e-01  2.56687203e-01\n",
      "  6.23530639e-02  5.35615512e-02  9.18841746e-02 -1.07337074e-01\n",
      "  2.04293947e-01  3.70101521e-01  5.87026016e-01  2.06158048e-01\n",
      "  2.14529327e-01  7.45363580e-03  3.14006807e-01  7.46422288e-02\n",
      "  7.20676000e-01 -4.96563515e-02 -5.32102527e-01  1.35049252e-01\n",
      "  1.18458850e-01  3.59187420e-01  5.61826417e-01  1.84078862e-01\n",
      "  2.27991319e-01  1.87030367e-01  2.17704108e-01 -3.44121758e-01\n",
      "  5.37189375e-01  4.29788850e-01  2.74182284e-01 -4.17247014e-01\n",
      " -4.21202655e-01 -9.04274425e-02  4.94657107e-02  2.06835047e-01\n",
      "  3.89613047e-01  1.69230090e-01  2.43026438e-01  1.91632157e-01\n",
      "  6.59903833e-01  1.48195155e-01  3.23651663e-01  4.93181728e-01\n",
      " -3.71409682e-01 -1.04006091e-02 -2.31889169e-01 -3.12994746e-01\n",
      "  1.95654186e-02 -3.40010900e-01  1.39152295e-01  2.67682883e-01\n",
      "  1.60328185e-01  9.70644274e-02  2.64177691e-01 -1.22673496e+00\n",
      "  9.45067931e-01  7.61579595e-01  9.98055787e-01 -7.14870346e-01\n",
      " -5.51024282e-02 -4.59691241e-01 -8.87939372e-03  3.90552623e-02\n",
      " -1.03074070e-01  2.59677349e-02  6.42520173e-02  4.10578827e-01\n",
      "  1.90950145e-01  9.29693872e-02  3.39792668e-01 -1.19904958e-01\n",
      "  4.69168281e-01 -3.36936193e-01 -2.48002373e-01 -3.35566167e-01\n",
      " -3.77543496e-01  4.09453199e-01  3.98727263e-01  4.76167388e-02\n",
      "  4.10618249e-01  6.26013745e-03 -1.50398734e-01 -7.37519213e-01\n",
      "  5.71661596e-01  7.04490860e-01  8.50917432e-01  2.75139673e-01\n",
      " -5.83118150e-01  2.46189417e-01 -4.91742605e-01 -1.52571532e-01\n",
      " -1.01480909e-01 -1.65042952e-01 -2.51258097e-01  7.13617437e-01\n",
      "  5.25276530e-01 -3.82648140e-01 -2.85984731e-01 -3.67637293e-01\n",
      " -2.28766850e-01 -7.30999263e-01 -1.06680129e+00 -5.55154247e-01\n",
      " -9.63351942e-02  7.75521122e-02  1.70877859e-03  2.61663606e-01\n",
      " -1.10112860e-01  2.78727170e-01 -2.72133397e-01 -1.44604609e+00\n",
      "  5.32794786e-02  1.00000000e+00 -8.21853531e-01 -3.73486841e-01\n",
      " -7.76532021e-01 -8.73496474e-02 -2.52141172e-01 -4.50838132e-01\n",
      " -3.66810491e-01 -1.96344658e-02  2.36528511e-01  5.52528994e-01\n",
      "  2.48029433e-01  4.20458809e-01 -1.89586807e-01 -9.14262794e-01\n",
      "  3.94513337e-01 -3.55352916e-01 -5.01959352e-01 -3.97117734e-01\n",
      " -6.38884226e-02  8.89310777e-02  3.10259721e-01 -3.39042317e-01\n",
      " -2.83885411e-01  1.05016497e-01 -3.17517602e-01 -1.27080337e+00\n",
      "  7.01426611e-01  1.00000000e+00  6.91155047e-01 -3.52558035e-01\n",
      " -1.15058084e+00 -1.10734283e-01 -2.56263006e-01  6.73764366e-02\n",
      "  1.15547431e-01 -1.02578932e-01  5.68815458e-01  9.60116683e-01\n",
      "  7.05676443e-01  3.28915261e-01 -4.01874017e-01 -9.75356396e-03\n",
      "  1.37335416e-02 -1.81736586e-01 -1.34261807e-01  1.22389616e-01\n",
      " -2.01521850e-01 -1.77843777e-02 -1.84248732e-02  5.22861276e-01\n",
      " -3.66415142e-01 -5.94968979e-01 -5.55111345e-01 -6.76068205e-01\n",
      " -2.89878260e-01  1.00000000e+00 -2.66046117e-01 -4.29491940e-01\n",
      " -6.53405298e-01 -9.30410480e-02 -1.93143894e-01 -2.81750789e-01\n",
      "  1.09843952e-01  1.76592654e-01  1.87021958e-01  3.76938494e-01\n",
      "  2.51576143e-01  6.83751462e-01 -2.43522711e-01  2.16315949e-01\n",
      "  4.09874493e-01  1.57563080e-02 -2.32284515e-01 -2.61417305e-02\n",
      " -2.93404528e-01  8.57932853e-02 -6.68902957e-01 -2.89936461e-01\n",
      "  1.03075378e-01 -3.64017508e-01 -1.54815595e+00 -2.47462113e-01\n",
      "  7.50652635e-01  1.00000000e+00  8.23345491e-01 -1.47965336e-01\n",
      " -8.64383990e-01 -7.91074656e-01  1.24546318e-02 -1.27191231e-01\n",
      "  3.08007817e-01 -3.24207682e-01 -3.09293887e-01  4.41701942e-01\n",
      " -7.02346407e-01  7.02836889e-01  2.34264748e-01 -2.49706275e-01\n",
      "  9.48064842e-01  1.64843488e-01 -2.29004726e-01 -2.28805910e-01\n",
      " -9.33029613e-02 -6.18652837e-01  4.22461292e-01 -7.44220759e-01\n",
      " -2.34169595e-01 -7.30290120e-01  1.28290552e+00 -6.04505394e-01\n",
      "  2.03098546e-01  7.12703911e-01  1.88791820e-02 -1.75394722e-01\n",
      " -7.02782858e-01  2.31803131e-02 -1.53416826e-01 -1.42058350e-01\n",
      "  1.87947565e-01 -4.58319328e-02 -4.33691230e-02  4.41789201e-01\n",
      "  6.30511234e-02 -2.75449908e-01  4.92471384e-01 -2.55960118e-01\n",
      "  2.32764131e-01  6.01690521e-02 -5.52070974e-02 -1.80947877e-01\n",
      " -2.50692875e-01 -9.92592820e-02 -4.86154217e-02 -9.81149107e-02\n",
      " -4.81091314e-01 -6.08035132e-01 -8.51396277e-01  3.10933126e-01\n",
      "  1.00000000e+00  7.21681914e-01  7.17157288e-01 -7.18701392e-01\n",
      " -1.20700813e-01 -3.25251476e-01 -4.18255055e-01 -5.19334694e-01\n",
      " -2.70650423e-01 -2.91195309e-01  7.58642698e-02  3.24019701e-01\n",
      "  8.69605715e-02  5.47404236e-01  1.57953290e-01  1.98136705e-01\n",
      " -3.15716788e-01 -4.33550592e-03 -2.49893133e-01 -1.45664627e-01\n",
      " -2.80414253e-01 -3.48139603e-02  1.05807443e-01 -7.72061448e-02\n",
      " -2.69949260e-01 -5.59369681e-01 -1.42674235e-01  1.23253450e-02\n",
      "  1.00000000e+00  1.00000000e+00  1.00000000e+00  1.76924327e-01\n",
      " -1.28210325e+00 -9.92748066e-01  1.32809870e-02  3.85101349e-02\n",
      " -2.46306107e-01  2.86675284e-01  2.04390809e-01  8.04501768e-01\n",
      "  5.40016384e-01  1.19973640e-01  5.76085832e-01  1.71503708e-01\n",
      "  7.87356699e-02 -1.18969682e-01 -9.80577709e-03  1.11104422e-01\n",
      " -2.94549930e-01  1.29627063e-02 -5.08111410e-01  2.32081752e-01\n",
      " -1.25304754e-01  8.98497882e-01 -1.16258341e+00 -4.68705269e-01\n",
      "  1.00000000e+00  1.00000000e+00  1.00000000e+00  9.05398751e-01\n",
      " -7.71332080e-01  2.71303904e-01 -6.19970644e-01 -1.91493073e-01\n",
      "  2.76090742e-01 -3.06848204e-01 -1.61818662e-01  3.40777396e-02\n",
      "  5.12906844e-02  3.81818891e-02 -1.24308941e-01  4.80829472e-02\n",
      " -2.80167064e-01  1.54893124e-01 -1.02462802e-01  9.34291368e-02\n",
      "  7.41320420e-01  7.73882935e-01  6.32351412e-01 -2.02220784e-01\n",
      "  1.26253585e+00 -4.03961357e-01 -7.53857506e-01  3.14198854e-01\n",
      "  1.00000000e+00  1.00000000e+00  1.00000000e+00  9.95832924e-01\n",
      "  5.02079557e-01 -3.40488952e-01  1.11107566e-01 -1.26407259e-01\n",
      " -4.37829890e-02  4.81835863e-02 -4.95197827e-01  1.20989040e-01\n",
      " -4.35204862e-01 -1.69751726e-01  1.52890282e-01 -4.14812899e-01\n",
      "  3.11900932e-01  3.15783453e-01  6.56208711e-01  7.70232562e-01\n",
      "  1.40742036e+00  5.36963363e-01  1.64200447e+00  7.55721763e-01\n",
      "  1.38183306e-01  1.38042797e+00  7.33072691e-01  2.72211028e-01\n",
      "  1.00000000e+00  1.00000000e+00  1.00000000e+00  1.00000000e+00\n",
      "  1.00000000e+00  2.96592481e-01  1.95999172e-01 -1.25306550e-02\n",
      " -6.10416789e-01 -2.75945117e-01  5.25693789e-01 -4.97716504e-01\n",
      "  3.70551140e-01  4.24544827e-02 -2.21942253e-01  3.57515785e-01\n",
      " -6.58507590e-01  5.25817674e-01 -2.88392160e-01  1.02306971e+00\n",
      "  4.57773194e-01  2.27573263e-01  1.28081154e+00 -1.21716699e-01\n",
      "  1.12444556e-02  7.29825866e-01  1.00000000e+00  1.00000000e+00\n",
      "  1.00000000e+00  1.00000000e+00  1.00000000e+00  1.00000000e+00\n",
      "  1.00000000e+00  1.88277693e-01 -1.36142034e-01 -3.94786367e-02\n",
      " -4.89432975e-01 -6.92356137e-01 -1.17621544e+00 -8.22442232e-01\n",
      " -5.67911139e-01 -8.75373458e-01 -1.50139244e+00 -1.18605951e+00\n",
      " -1.39664691e+00 -1.35520564e+00 -4.77353478e-01 -2.61626515e-01\n",
      "  2.36169515e-01  2.71598377e-01  8.00670490e-01  5.18642168e-01\n",
      "  1.01837933e-01  1.00000000e+00  1.00000000e+00  1.00000000e+00\n",
      "  1.00000000e+00]\n"
     ]
    }
   ],
   "source": [
    "weights= Perceptron_Algorithm(initial_weights, X_train, y_train, 0.1, 10)"
   ]
  },
  {
   "cell_type": "code",
   "execution_count": 36,
   "metadata": {},
   "outputs": [
    {
     "name": "stdout",
     "output_type": "stream",
     "text": [
      "Actual Label is ---> -1\n",
      "Predicted Label is: -1\n",
      "Actual Label is ---> -1\n",
      "Predicted Label is: -1\n",
      "Actual Label is ---> -1\n",
      "Predicted Label is: -1\n",
      "Actual Label is ---> 1\n",
      "Predicted Label is: 1\n",
      "Actual Label is ---> -1\n",
      "Predicted Label is: -1\n"
     ]
    }
   ],
   "source": [
    "for i in range(0,5):\n",
    "    print(f'Actual Label is ---> {y_test[i]}')\n",
    "    y_pred= Perceptron_Predict(weights, X_test[i])\n",
    "    print(f'Predicted Label is: {y_pred}')"
   ]
  },
  {
   "cell_type": "code",
   "execution_count": 37,
   "metadata": {},
   "outputs": [],
   "source": [
    "y_pred= []\n",
    "for i in range(len(y_test)):\n",
    "    y_pred.append(Perceptron_Predict(weights, X_test[i]))"
   ]
  },
  {
   "cell_type": "code",
   "execution_count": 38,
   "metadata": {},
   "outputs": [],
   "source": [
    "y_pred= np.array(y_pred)"
   ]
  },
  {
   "cell_type": "code",
   "execution_count": 39,
   "metadata": {},
   "outputs": [
    {
     "data": {
      "text/plain": [
       "array([-1, -1, -1, ...,  1, -1,  1])"
      ]
     },
     "execution_count": 39,
     "metadata": {},
     "output_type": "execute_result"
    }
   ],
   "source": [
    "y_pred"
   ]
  },
  {
   "cell_type": "code",
   "execution_count": 40,
   "metadata": {},
   "outputs": [
    {
     "name": "stdout",
     "output_type": "stream",
     "text": [
      "Accuracy of Perceptron--> 0.8136\n"
     ]
    }
   ],
   "source": [
    "from sklearn.metrics import accuracy_score\n",
    "\n",
    "accuracy= accuracy_score(y_test, y_pred)\n",
    "\n",
    "print(f'Accuracy of Perceptron--> {accuracy}')"
   ]
  },
  {
   "cell_type": "code",
   "execution_count": 41,
   "metadata": {},
   "outputs": [
    {
     "name": "stdout",
     "output_type": "stream",
     "text": [
      "----The Image----\n"
     ]
    },
    {
     "data": {
      "image/png": "[encoded data removed]",
      "text/plain": [
       "<Figure size 640x480 with 1 Axes>"
      ]
     },
     "metadata": {},
     "output_type": "display_data"
    },
    {
     "name": "stdout",
     "output_type": "stream",
     "text": [
      "----The Label----\n",
      "-1\n",
      "Predicted Label by the Perceptron---> -1\n",
      "----The Image----\n"
     ]
    },
    {
     "data": {
      "image/png": "[encoded data removed]",
      "text/plain": [
       "<Figure size 640x480 with 1 Axes>"
      ]
     },
     "metadata": {},
     "output_type": "display_data"
    },
    {
     "name": "stdout",
     "output_type": "stream",
     "text": [
      "----The Label----\n",
      "-1\n",
      "Predicted Label by the Perceptron---> -1\n",
      "----The Image----\n"
     ]
    },
    {
     "data": {
      "image/png": "[encoded data removed]",
      "text/plain": [
       "<Figure size 640x480 with 1 Axes>"
      ]
     },
     "metadata": {},
     "output_type": "display_data"
    },
    {
     "name": "stdout",
     "output_type": "stream",
     "text": [
      "----The Label----\n",
      "-1\n",
      "Predicted Label by the Perceptron---> -1\n",
      "----The Image----\n"
     ]
    },
    {
     "data": {
      "image/png": "[encoded data removed]",
      "text/plain": [
       "<Figure size 640x480 with 1 Axes>"
      ]
     },
     "metadata": {},
     "output_type": "display_data"
    },
    {
     "name": "stdout",
     "output_type": "stream",
     "text": [
      "----The Label----\n",
      "1\n",
      "Predicted Label by the Perceptron---> 1\n"
     ]
    }
   ],
   "source": [
    "for i in range(0,4):\n",
    "    verify_labels(X_test_for_viewing[i], y_test[i])\n",
    "    print(f'Predicted Label by the Perceptron---> {Perceptron_Predict(weights, X_test[i])}')\n",
    "    "
   ]
  },
  {
   "cell_type": "code",
   "execution_count": 42,
   "metadata": {},
   "outputs": [],
   "source": [
    "def plot_predictions(X_test, X_test_for_viewing, y_test, weights, perceptron_predict, num_images=10):\n",
    "    fig, axes = plt.subplots(1, num_images, figsize=(15, 10))  \n",
    "    \n",
    "    for i, ax in enumerate(axes):\n",
    "        if i >= len(X_test):\n",
    "            break  \n",
    "        \n",
    "        predicted_label = perceptron_predict(weights, X_test[i])\n",
    "        ax.imshow(X_test_for_viewing[i], cmap='gray')  \n",
    "        ax.set_title(f'True: {y_test[i]}\\nPred: {predicted_label}')\n",
    "        ax.axis('off')  \n",
    "    \n",
    "    plt.tight_layout()\n",
    "    plt.show()\n",
    "\n"
   ]
  },
  {
   "cell_type": "code",
   "execution_count": 43,
   "metadata": {},
   "outputs": [
    {
     "data": {
      "image/png": "[encoded data removed]",
      "text/plain": [
       "<Figure size 1500x1000 with 14 Axes>"
      ]
     },
     "metadata": {},
     "output_type": "display_data"
    }
   ],
   "source": [
    "plot_predictions(X_test, X_test_for_viewing, y_test, weights, Perceptron_Predict, num_images=14)"
   ]
  },
  {
   "cell_type": "markdown",
   "metadata": {},
   "source": [
    "## Implementing Equation ---> (A NAND B) XOR (A OR B)"
   ]
  },
  {
   "cell_type": "code",
   "execution_count": 44,
   "metadata": {},
   "outputs": [],
   "source": [
    "X_NAND= np.array([(1,0,0),\n",
    "         (1,0,1),\n",
    "         (1,1,0),\n",
    "         (1,1,1)])\n",
    "y_nand= np.array([1, 1, 1, -1])"
   ]
  },
  {
   "cell_type": "code",
   "execution_count": 45,
   "metadata": {},
   "outputs": [],
   "source": [
    "initial_nand_w= np.array([0.2, -0.1, 0.8])"
   ]
  },
  {
   "cell_type": "code",
   "execution_count": 46,
   "metadata": {},
   "outputs": [],
   "source": [
    "X_OR= np.array([(1,0,0),\n",
    "         (1,0,1),\n",
    "         (1,1,0),\n",
    "         (1,1,1)])\n",
    "y_or= np.array([-1, 1, 1, 1])"
   ]
  },
  {
   "cell_type": "code",
   "execution_count": 47,
   "metadata": {},
   "outputs": [],
   "source": [
    "initial_or_w= np.array([0.12, -0.4, -0.33])"
   ]
  },
  {
   "cell_type": "code",
   "execution_count": 48,
   "metadata": {},
   "outputs": [],
   "source": [
    "X_XOR= np.array([(1,0,0),\n",
    "         (1,0,1),\n",
    "         (1,1,0),\n",
    "         (1,1,1)])\n",
    "y_xor= np.array([-1, 1, 1, -1])"
   ]
  },
  {
   "cell_type": "code",
   "execution_count": 49,
   "metadata": {},
   "outputs": [],
   "source": [
    "initial_xor_w= np.array([-0.87, 0.94, -0.67])"
   ]
  },
  {
   "cell_type": "code",
   "execution_count": 50,
   "metadata": {},
   "outputs": [],
   "source": [
    "def train_NAND(W, X, y):\n",
    "    return Perceptron_Algorithm(W, X, y, 0.1, 100)"
   ]
  },
  {
   "cell_type": "code",
   "execution_count": 51,
   "metadata": {},
   "outputs": [],
   "source": [
    "def train_OR(W, X, y):\n",
    "    return Perceptron_Algorithm(W, X, y, 0.1, 100)"
   ]
  },
  {
   "cell_type": "code",
   "execution_count": 52,
   "metadata": {},
   "outputs": [],
   "source": [
    "def train_XOR(W, X, y):\n",
    "    return Perceptron_Algorithm(W, X, y, 0.1, 100)"
   ]
  },
  {
   "cell_type": "code",
   "execution_count": 53,
   "metadata": {},
   "outputs": [
    {
     "name": "stdout",
     "output_type": "stream",
     "text": [
      "Learning Complete at epoch 12\n",
      "Optimal Hyperplane Weighs Are [ 0.2 -0.2 -0.1]\n"
     ]
    }
   ],
   "source": [
    "NAND_Weights= train_NAND(initial_nand_w, X_NAND, y_nand)"
   ]
  },
  {
   "cell_type": "code",
   "execution_count": 54,
   "metadata": {},
   "outputs": [
    {
     "name": "stdout",
     "output_type": "stream",
     "text": [
      "Learning Complete at epoch 10\n",
      "Optimal Hyperplane Weighs Are [-0.08  0.1   0.17]\n"
     ]
    }
   ],
   "source": [
    "OR_Weights= train_OR(initial_or_w, X_OR, y_or)"
   ]
  },
  {
   "cell_type": "code",
   "execution_count": 55,
   "metadata": {},
   "outputs": [
    {
     "name": "stdout",
     "output_type": "stream",
     "text": [
      "Learning Complete at epoch 100\n",
      "Optimal Hyperplane Weighs Are [ 0.03 -0.06 -0.07]\n"
     ]
    }
   ],
   "source": [
    "XOR_Weights= train_XOR(initial_xor_w, X_XOR, y_xor)"
   ]
  },
  {
   "cell_type": "markdown",
   "metadata": {},
   "source": [
    "## We Have trained 3 perceptrons on each of the gates NAND, OR, and XOR respecively. Now we will perform a feed forward in a multilayer method"
   ]
  },
  {
   "cell_type": "code",
   "execution_count": 56,
   "metadata": {},
   "outputs": [],
   "source": [
    "X_test = np.array([[1, 0, 0], [1, 0, 1], [1, 1, 0], [1, 1, 1]])"
   ]
  },
  {
   "cell_type": "code",
   "execution_count": 57,
   "metadata": {},
   "outputs": [],
   "source": [
    "NAND_OUTPUT= []\n",
    "NAND_OUTPUT.extend(\n",
    "    Perceptron_Predict(NAND_Weights, X_test[i]) for i in range(len(X_test))\n",
    ")"
   ]
  },
  {
   "cell_type": "code",
   "execution_count": 58,
   "metadata": {},
   "outputs": [],
   "source": [
    "OR_OUTPUT= []\n",
    "OR_OUTPUT.extend(\n",
    "    Perceptron_Predict(OR_Weights, X_test[i]) for i in range(len(X_test))\n",
    ")"
   ]
  },
  {
   "cell_type": "code",
   "execution_count": 59,
   "metadata": {},
   "outputs": [
    {
     "data": {
      "text/plain": [
       "[1, 1, 1, -1]"
      ]
     },
     "execution_count": 59,
     "metadata": {},
     "output_type": "execute_result"
    }
   ],
   "source": [
    "NAND_OUTPUT"
   ]
  },
  {
   "cell_type": "code",
   "execution_count": 60,
   "metadata": {},
   "outputs": [
    {
     "data": {
      "text/plain": [
       "[-1, 1, 1, 1]"
      ]
     },
     "execution_count": 60,
     "metadata": {},
     "output_type": "execute_result"
    }
   ],
   "source": [
    "OR_OUTPUT"
   ]
  },
  {
   "cell_type": "code",
   "execution_count": 61,
   "metadata": {},
   "outputs": [],
   "source": [
    "X_XOR_INPUT = np.column_stack((np.ones(len(X_test)), NAND_OUTPUT, OR_OUTPUT))"
   ]
  },
  {
   "cell_type": "code",
   "execution_count": 62,
   "metadata": {},
   "outputs": [
    {
     "data": {
      "text/plain": [
       "array([[ 1.,  1., -1.],\n",
       "       [ 1.,  1.,  1.],\n",
       "       [ 1.,  1.,  1.],\n",
       "       [ 1., -1.,  1.]])"
      ]
     },
     "execution_count": 62,
     "metadata": {},
     "output_type": "execute_result"
    }
   ],
   "source": [
    "X_XOR_INPUT"
   ]
  },
  {
   "cell_type": "code",
   "execution_count": 63,
   "metadata": {},
   "outputs": [],
   "source": [
    "FINAL_XOR_OUTPUT= []\n",
    "FINAL_XOR_OUTPUT.extend(\n",
    "    Perceptron_Predict(XOR_Weights,X_XOR_INPUT[i]) for i in range(len(X_XOR_INPUT))\n",
    ")"
   ]
  },
  {
   "cell_type": "code",
   "execution_count": 64,
   "metadata": {},
   "outputs": [
    {
     "data": {
      "text/plain": [
       "[1, -1, -1, 1]"
      ]
     },
     "execution_count": 64,
     "metadata": {},
     "output_type": "execute_result"
    }
   ],
   "source": [
    "FINAL_XOR_OUTPUT"
   ]
  },
  {
   "cell_type": "code",
   "execution_count": null,
   "metadata": {},
   "outputs": [],
   "source": []
  }
 ],
 "metadata": {
  "kernelspec": {
   "display_name": "Python 3",
   "language": "python",
   "name": "python3"
  },
  "language_info": {
   "codemirror_mode": {
    "name": "ipython",
    "version": 3
   },
   "file_extension": ".py",
   "mimetype": "text/x-python",
   "name": "python",
   "nbconvert_exporter": "python",
   "pygments_lexer": "ipython3",
   "version": "3.11.8"
  }
 },
 "nbformat": 4,
 "nbformat_minor": 2
}
